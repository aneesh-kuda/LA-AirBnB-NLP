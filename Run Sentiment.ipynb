{
 "cells": [
  {
   "cell_type": "markdown",
   "id": "2ced419c",
   "metadata": {},
   "source": [
    "### This notebook runs a hugging face NLP sentiment model on the relevant AirBnB reviews for this analysis \n",
    "### LA, Studio or 1BR, Minimum Length of Stay 28 days"
   ]
  },
  {
   "cell_type": "code",
   "execution_count": 4,
   "id": "8de17ec1",
   "metadata": {},
   "outputs": [],
   "source": [
    "import pandas as pd"
   ]
  },
  {
   "cell_type": "code",
   "execution_count": 4,
   "id": "ba893e2b",
   "metadata": {},
   "outputs": [],
   "source": [
    "data = pd.read_csv('listings.csv')\n",
    "reviews = pd.read_csv('reviews.csv')"
   ]
  },
  {
   "cell_type": "code",
   "execution_count": 24,
   "id": "a272b8d6",
   "metadata": {},
   "outputs": [
    {
     "data": {
      "text/html": [
       "<div>\n",
       "<style scoped>\n",
       "    .dataframe tbody tr th:only-of-type {\n",
       "        vertical-align: middle;\n",
       "    }\n",
       "\n",
       "    .dataframe tbody tr th {\n",
       "        vertical-align: top;\n",
       "    }\n",
       "\n",
       "    .dataframe thead th {\n",
       "        text-align: right;\n",
       "    }\n",
       "</style>\n",
       "<table border=\"1\" class=\"dataframe\">\n",
       "  <thead>\n",
       "    <tr style=\"text-align: right;\">\n",
       "      <th></th>\n",
       "      <th>id</th>\n",
       "      <th>listing_url</th>\n",
       "      <th>scrape_id</th>\n",
       "      <th>last_scraped</th>\n",
       "      <th>source</th>\n",
       "      <th>name</th>\n",
       "      <th>description</th>\n",
       "      <th>neighborhood_overview</th>\n",
       "      <th>picture_url</th>\n",
       "      <th>host_id</th>\n",
       "      <th>...</th>\n",
       "      <th>review_scores_communication</th>\n",
       "      <th>review_scores_location</th>\n",
       "      <th>review_scores_value</th>\n",
       "      <th>license</th>\n",
       "      <th>instant_bookable</th>\n",
       "      <th>calculated_host_listings_count</th>\n",
       "      <th>calculated_host_listings_count_entire_homes</th>\n",
       "      <th>calculated_host_listings_count_private_rooms</th>\n",
       "      <th>calculated_host_listings_count_shared_rooms</th>\n",
       "      <th>reviews_per_month</th>\n",
       "    </tr>\n",
       "  </thead>\n",
       "  <tbody>\n",
       "    <tr>\n",
       "      <th>0</th>\n",
       "      <td>183319</td>\n",
       "      <td>https://www.airbnb.com/rooms/183319</td>\n",
       "      <td>20220909140055</td>\n",
       "      <td>2022-09-10</td>\n",
       "      <td>previous scrape</td>\n",
       "      <td>Panoramic Ocean View Venice Beach</td>\n",
       "      <td>Craftsmen style penthouse with ocean view from...</td>\n",
       "      <td>About as close to the beach as you can live in...</td>\n",
       "      <td>https://a0.muscache.com/pictures/1170205/e2596...</td>\n",
       "      <td>867995</td>\n",
       "      <td>...</td>\n",
       "      <td>5.00</td>\n",
       "      <td>5.00</td>\n",
       "      <td>5.00</td>\n",
       "      <td>NaN</td>\n",
       "      <td>f</td>\n",
       "      <td>2</td>\n",
       "      <td>2</td>\n",
       "      <td>0</td>\n",
       "      <td>0</td>\n",
       "      <td>0.02</td>\n",
       "    </tr>\n",
       "    <tr>\n",
       "      <th>1</th>\n",
       "      <td>51307</td>\n",
       "      <td>https://www.airbnb.com/rooms/51307</td>\n",
       "      <td>20220909140055</td>\n",
       "      <td>2022-09-10</td>\n",
       "      <td>city scrape</td>\n",
       "      <td>Spanish Bungalow Guest House LA CA. 30 plus ni...</td>\n",
       "      <td>PRIVATE GUEST HOUSE&lt;br /&gt;&lt;br /&gt;&lt;b&gt;The space&lt;/b...</td>\n",
       "      <td>Local LA  Community , shops and restaurants in...</td>\n",
       "      <td>https://a0.muscache.com/pictures/294658/ac8d6e...</td>\n",
       "      <td>235568</td>\n",
       "      <td>...</td>\n",
       "      <td>4.85</td>\n",
       "      <td>4.95</td>\n",
       "      <td>4.76</td>\n",
       "      <td>NaN</td>\n",
       "      <td>f</td>\n",
       "      <td>2</td>\n",
       "      <td>2</td>\n",
       "      <td>0</td>\n",
       "      <td>0</td>\n",
       "      <td>0.98</td>\n",
       "    </tr>\n",
       "    <tr>\n",
       "      <th>2</th>\n",
       "      <td>184314</td>\n",
       "      <td>https://www.airbnb.com/rooms/184314</td>\n",
       "      <td>20220909140055</td>\n",
       "      <td>2022-09-10</td>\n",
       "      <td>previous scrape</td>\n",
       "      <td>Boho Chic Flat..Steps to Beach!</td>\n",
       "      <td>Bright, airy, quiet 1 bdr located just steps f...</td>\n",
       "      <td>You are in one of the beach locations in Los A...</td>\n",
       "      <td>https://a0.muscache.com/pictures/0bc2f8b7-9378...</td>\n",
       "      <td>884031</td>\n",
       "      <td>...</td>\n",
       "      <td>4.93</td>\n",
       "      <td>4.89</td>\n",
       "      <td>4.85</td>\n",
       "      <td>NaN</td>\n",
       "      <td>t</td>\n",
       "      <td>1</td>\n",
       "      <td>1</td>\n",
       "      <td>0</td>\n",
       "      <td>0</td>\n",
       "      <td>0.22</td>\n",
       "    </tr>\n",
       "    <tr>\n",
       "      <th>3</th>\n",
       "      <td>51498</td>\n",
       "      <td>https://www.airbnb.com/rooms/51498</td>\n",
       "      <td>20220909140055</td>\n",
       "      <td>2022-09-10</td>\n",
       "      <td>city scrape</td>\n",
       "      <td>Guest House With Its Own Entrance/Exit and Hot...</td>\n",
       "      <td>Fully self-contained, separate structure, with...</td>\n",
       "      <td>We are close to Venice without the hassle of n...</td>\n",
       "      <td>https://a0.muscache.com/pictures/83426633/c9e3...</td>\n",
       "      <td>236758</td>\n",
       "      <td>...</td>\n",
       "      <td>4.90</td>\n",
       "      <td>4.83</td>\n",
       "      <td>4.74</td>\n",
       "      <td>HSR19-001336</td>\n",
       "      <td>f</td>\n",
       "      <td>1</td>\n",
       "      <td>1</td>\n",
       "      <td>0</td>\n",
       "      <td>0</td>\n",
       "      <td>2.60</td>\n",
       "    </tr>\n",
       "    <tr>\n",
       "      <th>4</th>\n",
       "      <td>109</td>\n",
       "      <td>https://www.airbnb.com/rooms/109</td>\n",
       "      <td>20220909140055</td>\n",
       "      <td>2022-09-10</td>\n",
       "      <td>city scrape</td>\n",
       "      <td>Amazing bright elegant condo park front *UPGRA...</td>\n",
       "      <td>*** Unit upgraded with new bamboo flooring, br...</td>\n",
       "      <td>NaN</td>\n",
       "      <td>https://a0.muscache.com/pictures/4321499/1da98...</td>\n",
       "      <td>521</td>\n",
       "      <td>...</td>\n",
       "      <td>4.00</td>\n",
       "      <td>5.00</td>\n",
       "      <td>4.00</td>\n",
       "      <td>NaN</td>\n",
       "      <td>f</td>\n",
       "      <td>1</td>\n",
       "      <td>1</td>\n",
       "      <td>0</td>\n",
       "      <td>0</td>\n",
       "      <td>0.01</td>\n",
       "    </tr>\n",
       "  </tbody>\n",
       "</table>\n",
       "<p>5 rows × 75 columns</p>\n",
       "</div>"
      ],
      "text/plain": [
       "       id                          listing_url       scrape_id last_scraped  \\\n",
       "0  183319  https://www.airbnb.com/rooms/183319  20220909140055   2022-09-10   \n",
       "1   51307   https://www.airbnb.com/rooms/51307  20220909140055   2022-09-10   \n",
       "2  184314  https://www.airbnb.com/rooms/184314  20220909140055   2022-09-10   \n",
       "3   51498   https://www.airbnb.com/rooms/51498  20220909140055   2022-09-10   \n",
       "4     109     https://www.airbnb.com/rooms/109  20220909140055   2022-09-10   \n",
       "\n",
       "            source                                               name  \\\n",
       "0  previous scrape                  Panoramic Ocean View Venice Beach   \n",
       "1      city scrape  Spanish Bungalow Guest House LA CA. 30 plus ni...   \n",
       "2  previous scrape                    Boho Chic Flat..Steps to Beach!   \n",
       "3      city scrape  Guest House With Its Own Entrance/Exit and Hot...   \n",
       "4      city scrape  Amazing bright elegant condo park front *UPGRA...   \n",
       "\n",
       "                                         description  \\\n",
       "0  Craftsmen style penthouse with ocean view from...   \n",
       "1  PRIVATE GUEST HOUSE<br /><br /><b>The space</b...   \n",
       "2  Bright, airy, quiet 1 bdr located just steps f...   \n",
       "3  Fully self-contained, separate structure, with...   \n",
       "4  *** Unit upgraded with new bamboo flooring, br...   \n",
       "\n",
       "                               neighborhood_overview  \\\n",
       "0  About as close to the beach as you can live in...   \n",
       "1  Local LA  Community , shops and restaurants in...   \n",
       "2  You are in one of the beach locations in Los A...   \n",
       "3  We are close to Venice without the hassle of n...   \n",
       "4                                                NaN   \n",
       "\n",
       "                                         picture_url  host_id  ...  \\\n",
       "0  https://a0.muscache.com/pictures/1170205/e2596...   867995  ...   \n",
       "1  https://a0.muscache.com/pictures/294658/ac8d6e...   235568  ...   \n",
       "2  https://a0.muscache.com/pictures/0bc2f8b7-9378...   884031  ...   \n",
       "3  https://a0.muscache.com/pictures/83426633/c9e3...   236758  ...   \n",
       "4  https://a0.muscache.com/pictures/4321499/1da98...      521  ...   \n",
       "\n",
       "  review_scores_communication review_scores_location review_scores_value  \\\n",
       "0                        5.00                   5.00                5.00   \n",
       "1                        4.85                   4.95                4.76   \n",
       "2                        4.93                   4.89                4.85   \n",
       "3                        4.90                   4.83                4.74   \n",
       "4                        4.00                   5.00                4.00   \n",
       "\n",
       "        license instant_bookable calculated_host_listings_count  \\\n",
       "0           NaN                f                              2   \n",
       "1           NaN                f                              2   \n",
       "2           NaN                t                              1   \n",
       "3  HSR19-001336                f                              1   \n",
       "4           NaN                f                              1   \n",
       "\n",
       "  calculated_host_listings_count_entire_homes  \\\n",
       "0                                           2   \n",
       "1                                           2   \n",
       "2                                           1   \n",
       "3                                           1   \n",
       "4                                           1   \n",
       "\n",
       "  calculated_host_listings_count_private_rooms  \\\n",
       "0                                            0   \n",
       "1                                            0   \n",
       "2                                            0   \n",
       "3                                            0   \n",
       "4                                            0   \n",
       "\n",
       "  calculated_host_listings_count_shared_rooms reviews_per_month  \n",
       "0                                           0              0.02  \n",
       "1                                           0              0.98  \n",
       "2                                           0              0.22  \n",
       "3                                           0              2.60  \n",
       "4                                           0              0.01  \n",
       "\n",
       "[5 rows x 75 columns]"
      ]
     },
     "execution_count": 24,
     "metadata": {},
     "output_type": "execute_result"
    }
   ],
   "source": [
    "data.head()"
   ]
  },
  {
   "cell_type": "code",
   "execution_count": 25,
   "id": "0e1a0b54",
   "metadata": {},
   "outputs": [
    {
     "data": {
      "text/html": [
       "<div>\n",
       "<style scoped>\n",
       "    .dataframe tbody tr th:only-of-type {\n",
       "        vertical-align: middle;\n",
       "    }\n",
       "\n",
       "    .dataframe tbody tr th {\n",
       "        vertical-align: top;\n",
       "    }\n",
       "\n",
       "    .dataframe thead th {\n",
       "        text-align: right;\n",
       "    }\n",
       "</style>\n",
       "<table border=\"1\" class=\"dataframe\">\n",
       "  <thead>\n",
       "    <tr style=\"text-align: right;\">\n",
       "      <th></th>\n",
       "      <th>listing_id</th>\n",
       "      <th>id</th>\n",
       "      <th>date</th>\n",
       "      <th>reviewer_id</th>\n",
       "      <th>reviewer_name</th>\n",
       "      <th>comments</th>\n",
       "    </tr>\n",
       "  </thead>\n",
       "  <tbody>\n",
       "    <tr>\n",
       "      <th>0</th>\n",
       "      <td>109</td>\n",
       "      <td>449036</td>\n",
       "      <td>2011-08-15</td>\n",
       "      <td>927861</td>\n",
       "      <td>Edwin</td>\n",
       "      <td>The host canceled my reservation the day befor...</td>\n",
       "    </tr>\n",
       "    <tr>\n",
       "      <th>1</th>\n",
       "      <td>109</td>\n",
       "      <td>74506539</td>\n",
       "      <td>2016-05-15</td>\n",
       "      <td>22509885</td>\n",
       "      <td>Jenn</td>\n",
       "      <td>Me and two friends stayed for four and a half ...</td>\n",
       "    </tr>\n",
       "    <tr>\n",
       "      <th>2</th>\n",
       "      <td>2708</td>\n",
       "      <td>13994902</td>\n",
       "      <td>2014-06-09</td>\n",
       "      <td>10905424</td>\n",
       "      <td>Kuberan</td>\n",
       "      <td>i had a wonderful stay. Everything from start ...</td>\n",
       "    </tr>\n",
       "    <tr>\n",
       "      <th>3</th>\n",
       "      <td>183319</td>\n",
       "      <td>988343</td>\n",
       "      <td>2012-03-11</td>\n",
       "      <td>1219947</td>\n",
       "      <td>Gabriella</td>\n",
       "      <td>very nice and cozy apartment, well located in ...</td>\n",
       "    </tr>\n",
       "    <tr>\n",
       "      <th>4</th>\n",
       "      <td>183319</td>\n",
       "      <td>184002210</td>\n",
       "      <td>2017-08-18</td>\n",
       "      <td>70046039</td>\n",
       "      <td>Yan</td>\n",
       "      <td>We loved the experience. The location couldn't...</td>\n",
       "    </tr>\n",
       "  </tbody>\n",
       "</table>\n",
       "</div>"
      ],
      "text/plain": [
       "   listing_id         id        date  reviewer_id reviewer_name  \\\n",
       "0         109     449036  2011-08-15       927861         Edwin   \n",
       "1         109   74506539  2016-05-15     22509885          Jenn   \n",
       "2        2708   13994902  2014-06-09     10905424       Kuberan   \n",
       "3      183319     988343  2012-03-11      1219947     Gabriella   \n",
       "4      183319  184002210  2017-08-18     70046039           Yan   \n",
       "\n",
       "                                            comments  \n",
       "0  The host canceled my reservation the day befor...  \n",
       "1  Me and two friends stayed for four and a half ...  \n",
       "2  i had a wonderful stay. Everything from start ...  \n",
       "3  very nice and cozy apartment, well located in ...  \n",
       "4  We loved the experience. The location couldn't...  "
      ]
     },
     "execution_count": 25,
     "metadata": {},
     "output_type": "execute_result"
    }
   ],
   "source": [
    "reviews.head()"
   ]
  },
  {
   "cell_type": "code",
   "execution_count": 46,
   "id": "d83ac846",
   "metadata": {},
   "outputs": [],
   "source": [
    "filter_data = data[data['minimum_nights'] >= 28]"
   ]
  },
  {
   "cell_type": "code",
   "execution_count": 47,
   "id": "07e1e39c",
   "metadata": {},
   "outputs": [],
   "source": [
    "filter_data = filter_data[filter_data['last_review'] > '2022-01-01']"
   ]
  },
  {
   "cell_type": "code",
   "execution_count": 48,
   "id": "b314ff07",
   "metadata": {},
   "outputs": [
    {
     "data": {
      "text/plain": [
       "8066"
      ]
     },
     "execution_count": 48,
     "metadata": {},
     "output_type": "execute_result"
    }
   ],
   "source": [
    "len(filter_data)"
   ]
  },
  {
   "cell_type": "code",
   "execution_count": 53,
   "id": "506d2ca3",
   "metadata": {},
   "outputs": [],
   "source": [
    "filter_reviews = reviews[reviews['date'] > '2020-01-01']"
   ]
  },
  {
   "cell_type": "code",
   "execution_count": 54,
   "id": "6ec41fe3",
   "metadata": {},
   "outputs": [
    {
     "data": {
      "text/plain": [
       "835264"
      ]
     },
     "execution_count": 54,
     "metadata": {},
     "output_type": "execute_result"
    }
   ],
   "source": [
    "len(filter_reviews)"
   ]
  },
  {
   "cell_type": "code",
   "execution_count": 55,
   "id": "c522e701",
   "metadata": {},
   "outputs": [],
   "source": [
    "filter_reviews = filter_reviews[filter_reviews['listing_id'].isin(filter_data['id'])]"
   ]
  },
  {
   "cell_type": "code",
   "execution_count": 56,
   "id": "e469cb10",
   "metadata": {},
   "outputs": [
    {
     "data": {
      "text/plain": [
       "91845"
      ]
     },
     "execution_count": 56,
     "metadata": {},
     "output_type": "execute_result"
    }
   ],
   "source": [
    "len(filter_reviews)"
   ]
  },
  {
   "cell_type": "code",
   "execution_count": 57,
   "id": "d8005681",
   "metadata": {},
   "outputs": [],
   "source": [
    "filter_reviews['comments'] = filter_reviews['comments'].astype(str)"
   ]
  },
  {
   "cell_type": "code",
   "execution_count": 58,
   "id": "5d3bdde7",
   "metadata": {},
   "outputs": [],
   "source": [
    "filter_reviews['review_short'] = filter_reviews['comments'].str.slice(0,511)"
   ]
  },
  {
   "cell_type": "code",
   "execution_count": 59,
   "id": "ddb88777",
   "metadata": {},
   "outputs": [
    {
     "data": {
      "text/html": [
       "<div>\n",
       "<style scoped>\n",
       "    .dataframe tbody tr th:only-of-type {\n",
       "        vertical-align: middle;\n",
       "    }\n",
       "\n",
       "    .dataframe tbody tr th {\n",
       "        vertical-align: top;\n",
       "    }\n",
       "\n",
       "    .dataframe thead th {\n",
       "        text-align: right;\n",
       "    }\n",
       "</style>\n",
       "<table border=\"1\" class=\"dataframe\">\n",
       "  <thead>\n",
       "    <tr style=\"text-align: right;\">\n",
       "      <th></th>\n",
       "      <th>listing_id</th>\n",
       "      <th>id</th>\n",
       "      <th>date</th>\n",
       "      <th>reviewer_id</th>\n",
       "      <th>reviewer_name</th>\n",
       "      <th>comments</th>\n",
       "      <th>review_short</th>\n",
       "    </tr>\n",
       "  </thead>\n",
       "  <tbody>\n",
       "    <tr>\n",
       "      <th>58</th>\n",
       "      <td>185536</td>\n",
       "      <td>635562139</td>\n",
       "      <td>2020-07-06</td>\n",
       "      <td>339452635</td>\n",
       "      <td>Arya</td>\n",
       "      <td>Cancelled reservation early because house was ...</td>\n",
       "      <td>Cancelled reservation early because house was ...</td>\n",
       "    </tr>\n",
       "    <tr>\n",
       "      <th>59</th>\n",
       "      <td>185536</td>\n",
       "      <td>713495683</td>\n",
       "      <td>2020-12-05</td>\n",
       "      <td>325039109</td>\n",
       "      <td>Daryl</td>\n",
       "      <td>Laura is kind, thoughtful, and hospitable. The...</td>\n",
       "      <td>Laura is kind, thoughtful, and hospitable. The...</td>\n",
       "    </tr>\n",
       "    <tr>\n",
       "      <th>60</th>\n",
       "      <td>185536</td>\n",
       "      <td>566003551605243289</td>\n",
       "      <td>2022-02-19</td>\n",
       "      <td>436519389</td>\n",
       "      <td>Renee</td>\n",
       "      <td>Laura is a nice person, I enjoyed staying ther...</td>\n",
       "      <td>Laura is a nice person, I enjoyed staying ther...</td>\n",
       "    </tr>\n",
       "    <tr>\n",
       "      <th>97</th>\n",
       "      <td>2708</td>\n",
       "      <td>619302203</td>\n",
       "      <td>2020-03-17</td>\n",
       "      <td>117823684</td>\n",
       "      <td>Nathan</td>\n",
       "      <td>Location is decent (near some great music stor...</td>\n",
       "      <td>Location is decent (near some great music stor...</td>\n",
       "    </tr>\n",
       "    <tr>\n",
       "      <th>121</th>\n",
       "      <td>2708</td>\n",
       "      <td>632352136</td>\n",
       "      <td>2020-06-26</td>\n",
       "      <td>275399037</td>\n",
       "      <td>Tom</td>\n",
       "      <td>Charles was not only a gracious and accommodat...</td>\n",
       "      <td>Charles was not only a gracious and accommodat...</td>\n",
       "    </tr>\n",
       "  </tbody>\n",
       "</table>\n",
       "</div>"
      ],
      "text/plain": [
       "     listing_id                  id        date  reviewer_id reviewer_name  \\\n",
       "58       185536           635562139  2020-07-06    339452635          Arya   \n",
       "59       185536           713495683  2020-12-05    325039109         Daryl   \n",
       "60       185536  566003551605243289  2022-02-19    436519389         Renee   \n",
       "97         2708           619302203  2020-03-17    117823684        Nathan   \n",
       "121        2708           632352136  2020-06-26    275399037           Tom   \n",
       "\n",
       "                                              comments  \\\n",
       "58   Cancelled reservation early because house was ...   \n",
       "59   Laura is kind, thoughtful, and hospitable. The...   \n",
       "60   Laura is a nice person, I enjoyed staying ther...   \n",
       "97   Location is decent (near some great music stor...   \n",
       "121  Charles was not only a gracious and accommodat...   \n",
       "\n",
       "                                          review_short  \n",
       "58   Cancelled reservation early because house was ...  \n",
       "59   Laura is kind, thoughtful, and hospitable. The...  \n",
       "60   Laura is a nice person, I enjoyed staying ther...  \n",
       "97   Location is decent (near some great music stor...  \n",
       "121  Charles was not only a gracious and accommodat...  "
      ]
     },
     "execution_count": 59,
     "metadata": {},
     "output_type": "execute_result"
    }
   ],
   "source": [
    "filter_reviews.head()"
   ]
  },
  {
   "cell_type": "code",
   "execution_count": 60,
   "id": "e5128881",
   "metadata": {},
   "outputs": [
    {
     "data": {
      "text/html": [
       "<div>\n",
       "<style scoped>\n",
       "    .dataframe tbody tr th:only-of-type {\n",
       "        vertical-align: middle;\n",
       "    }\n",
       "\n",
       "    .dataframe tbody tr th {\n",
       "        vertical-align: top;\n",
       "    }\n",
       "\n",
       "    .dataframe thead th {\n",
       "        text-align: right;\n",
       "    }\n",
       "</style>\n",
       "<table border=\"1\" class=\"dataframe\">\n",
       "  <thead>\n",
       "    <tr style=\"text-align: right;\">\n",
       "      <th></th>\n",
       "      <th>listing_id</th>\n",
       "      <th>id</th>\n",
       "      <th>date</th>\n",
       "      <th>reviewer_id</th>\n",
       "      <th>reviewer_name</th>\n",
       "      <th>comments</th>\n",
       "      <th>review_short</th>\n",
       "    </tr>\n",
       "  </thead>\n",
       "  <tbody>\n",
       "    <tr>\n",
       "      <th>58</th>\n",
       "      <td>185536</td>\n",
       "      <td>635562139</td>\n",
       "      <td>2020-07-06</td>\n",
       "      <td>339452635</td>\n",
       "      <td>Arya</td>\n",
       "      <td>Cancelled reservation early because house was ...</td>\n",
       "      <td>Cancelled reservation early because house was ...</td>\n",
       "    </tr>\n",
       "    <tr>\n",
       "      <th>59</th>\n",
       "      <td>185536</td>\n",
       "      <td>713495683</td>\n",
       "      <td>2020-12-05</td>\n",
       "      <td>325039109</td>\n",
       "      <td>Daryl</td>\n",
       "      <td>Laura is kind, thoughtful, and hospitable. The...</td>\n",
       "      <td>Laura is kind, thoughtful, and hospitable. The...</td>\n",
       "    </tr>\n",
       "    <tr>\n",
       "      <th>60</th>\n",
       "      <td>185536</td>\n",
       "      <td>566003551605243289</td>\n",
       "      <td>2022-02-19</td>\n",
       "      <td>436519389</td>\n",
       "      <td>Renee</td>\n",
       "      <td>Laura is a nice person, I enjoyed staying ther...</td>\n",
       "      <td>Laura is a nice person, I enjoyed staying ther...</td>\n",
       "    </tr>\n",
       "    <tr>\n",
       "      <th>97</th>\n",
       "      <td>2708</td>\n",
       "      <td>619302203</td>\n",
       "      <td>2020-03-17</td>\n",
       "      <td>117823684</td>\n",
       "      <td>Nathan</td>\n",
       "      <td>Location is decent (near some great music stor...</td>\n",
       "      <td>Location is decent (near some great music stor...</td>\n",
       "    </tr>\n",
       "    <tr>\n",
       "      <th>121</th>\n",
       "      <td>2708</td>\n",
       "      <td>632352136</td>\n",
       "      <td>2020-06-26</td>\n",
       "      <td>275399037</td>\n",
       "      <td>Tom</td>\n",
       "      <td>Charles was not only a gracious and accommodat...</td>\n",
       "      <td>Charles was not only a gracious and accommodat...</td>\n",
       "    </tr>\n",
       "    <tr>\n",
       "      <th>...</th>\n",
       "      <td>...</td>\n",
       "      <td>...</td>\n",
       "      <td>...</td>\n",
       "      <td>...</td>\n",
       "      <td>...</td>\n",
       "      <td>...</td>\n",
       "      <td>...</td>\n",
       "    </tr>\n",
       "    <tr>\n",
       "      <th>1612394</th>\n",
       "      <td>35885839</td>\n",
       "      <td>529753992226184121</td>\n",
       "      <td>2021-12-31</td>\n",
       "      <td>141430565</td>\n",
       "      <td>Xiaoxiao</td>\n",
       "      <td>The owner is very responsive. Descriptions are...</td>\n",
       "      <td>The owner is very responsive. Descriptions are...</td>\n",
       "    </tr>\n",
       "    <tr>\n",
       "      <th>1612395</th>\n",
       "      <td>35885839</td>\n",
       "      <td>559500943179290759</td>\n",
       "      <td>2022-02-10</td>\n",
       "      <td>175841472</td>\n",
       "      <td>Emilie</td>\n",
       "      <td>We enjoyed our stay. The location is perfect n...</td>\n",
       "      <td>We enjoyed our stay. The location is perfect n...</td>\n",
       "    </tr>\n",
       "    <tr>\n",
       "      <th>1612396</th>\n",
       "      <td>35885839</td>\n",
       "      <td>676122609519273306</td>\n",
       "      <td>2022-07-21</td>\n",
       "      <td>237938623</td>\n",
       "      <td>Eric</td>\n",
       "      <td>DESPITE NO A/C HAD A GREAT STAY WITH THE FAN O...</td>\n",
       "      <td>DESPITE NO A/C HAD A GREAT STAY WITH THE FAN O...</td>\n",
       "    </tr>\n",
       "    <tr>\n",
       "      <th>1612397</th>\n",
       "      <td>35885839</td>\n",
       "      <td>677625291931035513</td>\n",
       "      <td>2022-07-23</td>\n",
       "      <td>410293060</td>\n",
       "      <td>Mike</td>\n",
       "      <td>Great location for walking to the beach and cl...</td>\n",
       "      <td>Great location for walking to the beach and cl...</td>\n",
       "    </tr>\n",
       "    <tr>\n",
       "      <th>1612398</th>\n",
       "      <td>35885839</td>\n",
       "      <td>680537167667575925</td>\n",
       "      <td>2022-07-27</td>\n",
       "      <td>15276630</td>\n",
       "      <td>Gene</td>\n",
       "      <td>Met our needs and close to everything. Would r...</td>\n",
       "      <td>Met our needs and close to everything. Would r...</td>\n",
       "    </tr>\n",
       "  </tbody>\n",
       "</table>\n",
       "<p>91845 rows × 7 columns</p>\n",
       "</div>"
      ],
      "text/plain": [
       "         listing_id                  id        date  reviewer_id  \\\n",
       "58           185536           635562139  2020-07-06    339452635   \n",
       "59           185536           713495683  2020-12-05    325039109   \n",
       "60           185536  566003551605243289  2022-02-19    436519389   \n",
       "97             2708           619302203  2020-03-17    117823684   \n",
       "121            2708           632352136  2020-06-26    275399037   \n",
       "...             ...                 ...         ...          ...   \n",
       "1612394    35885839  529753992226184121  2021-12-31    141430565   \n",
       "1612395    35885839  559500943179290759  2022-02-10    175841472   \n",
       "1612396    35885839  676122609519273306  2022-07-21    237938623   \n",
       "1612397    35885839  677625291931035513  2022-07-23    410293060   \n",
       "1612398    35885839  680537167667575925  2022-07-27     15276630   \n",
       "\n",
       "        reviewer_name                                           comments  \\\n",
       "58               Arya  Cancelled reservation early because house was ...   \n",
       "59              Daryl  Laura is kind, thoughtful, and hospitable. The...   \n",
       "60              Renee  Laura is a nice person, I enjoyed staying ther...   \n",
       "97             Nathan  Location is decent (near some great music stor...   \n",
       "121               Tom  Charles was not only a gracious and accommodat...   \n",
       "...               ...                                                ...   \n",
       "1612394      Xiaoxiao  The owner is very responsive. Descriptions are...   \n",
       "1612395        Emilie  We enjoyed our stay. The location is perfect n...   \n",
       "1612396          Eric  DESPITE NO A/C HAD A GREAT STAY WITH THE FAN O...   \n",
       "1612397          Mike  Great location for walking to the beach and cl...   \n",
       "1612398          Gene  Met our needs and close to everything. Would r...   \n",
       "\n",
       "                                              review_short  \n",
       "58       Cancelled reservation early because house was ...  \n",
       "59       Laura is kind, thoughtful, and hospitable. The...  \n",
       "60       Laura is a nice person, I enjoyed staying ther...  \n",
       "97       Location is decent (near some great music stor...  \n",
       "121      Charles was not only a gracious and accommodat...  \n",
       "...                                                    ...  \n",
       "1612394  The owner is very responsive. Descriptions are...  \n",
       "1612395  We enjoyed our stay. The location is perfect n...  \n",
       "1612396  DESPITE NO A/C HAD A GREAT STAY WITH THE FAN O...  \n",
       "1612397  Great location for walking to the beach and cl...  \n",
       "1612398  Met our needs and close to everything. Would r...  \n",
       "\n",
       "[91845 rows x 7 columns]"
      ]
     },
     "execution_count": 60,
     "metadata": {},
     "output_type": "execute_result"
    }
   ],
   "source": [
    "filter_reviews.dropna()"
   ]
  },
  {
   "cell_type": "code",
   "execution_count": 1,
   "id": "661c50e5",
   "metadata": {},
   "outputs": [],
   "source": [
    "from transformers import pipeline"
   ]
  },
  {
   "cell_type": "code",
   "execution_count": 12,
   "id": "3938c531",
   "metadata": {},
   "outputs": [
    {
     "data": {
      "application/vnd.jupyter.widget-view+json": {
       "model_id": "f9220eafef9945d0824c1e80db889472",
       "version_major": 2,
       "version_minor": 0
      },
      "text/plain": [
       "Downloading:   0%|          | 0.00/1.08k [00:00<?, ?B/s]"
      ]
     },
     "metadata": {},
     "output_type": "display_data"
    },
    {
     "name": "stderr",
     "output_type": "stream",
     "text": [
      "c:\\users\\anees\\appdata\\local\\programs\\python\\python37\\lib\\site-packages\\huggingface_hub\\file_download.py:123: UserWarning: `huggingface_hub` cache-system uses symlinks by default to efficiently store duplicated files but your machine does not support them in C:\\Users\\anees\\.cache\\huggingface\\hub. Caching files will still work but in a degraded version that might require more space on your disk. This warning can be disabled by setting the `HF_HUB_DISABLE_SYMLINKS_WARNING` environment variable. For more details, see https://huggingface.co/docs/huggingface_hub/how-to-cache#limitations.\n",
      "To support symlinks on Windows, you either need to activate Developer Mode or to run Python as an administrator. In order to see activate developer mode, see this article: https://docs.microsoft.com/en-us/windows/apps/get-started/enable-your-device-for-development\n",
      "  warnings.warn(message)\n"
     ]
    },
    {
     "data": {
      "application/vnd.jupyter.widget-view+json": {
       "model_id": "33a44e3c66474405bec64f0f6cea9dab",
       "version_major": 2,
       "version_minor": 0
      },
      "text/plain": [
       "Downloading:   0%|          | 0.00/3.86k [00:00<?, ?B/s]"
      ]
     },
     "metadata": {},
     "output_type": "display_data"
    },
    {
     "data": {
      "application/vnd.jupyter.widget-view+json": {
       "model_id": "51c50c023dac4eb7bc5a801f44c7fa5b",
       "version_major": 2,
       "version_minor": 0
      },
      "text/plain": [
       "Downloading:   0%|          | 0.00/499M [00:00<?, ?B/s]"
      ]
     },
     "metadata": {},
     "output_type": "display_data"
    },
    {
     "data": {
      "application/vnd.jupyter.widget-view+json": {
       "model_id": "d50ee6bd1f28449a8024b63e090ab51b",
       "version_major": 2,
       "version_minor": 0
      },
      "text/plain": [
       "Downloading:   0%|          | 0.00/347 [00:00<?, ?B/s]"
      ]
     },
     "metadata": {},
     "output_type": "display_data"
    },
    {
     "data": {
      "application/vnd.jupyter.widget-view+json": {
       "model_id": "c27f72fb0a8546a18f86c6b68d1e7d4c",
       "version_major": 2,
       "version_minor": 0
      },
      "text/plain": [
       "Downloading:   0%|          | 0.00/213k [00:00<?, ?B/s]"
      ]
     },
     "metadata": {},
     "output_type": "display_data"
    },
    {
     "data": {
      "application/vnd.jupyter.widget-view+json": {
       "model_id": "5a01805c1aba423694e533391fcf2a1f",
       "version_major": 2,
       "version_minor": 0
      },
      "text/plain": [
       "Downloading:   0%|          | 0.00/669k [00:00<?, ?B/s]"
      ]
     },
     "metadata": {},
     "output_type": "display_data"
    },
    {
     "data": {
      "application/vnd.jupyter.widget-view+json": {
       "model_id": "3f6453f56081442f86f6ab7449a00a81",
       "version_major": 2,
       "version_minor": 0
      },
      "text/plain": [
       "Downloading:   0%|          | 0.00/125 [00:00<?, ?B/s]"
      ]
     },
     "metadata": {},
     "output_type": "display_data"
    }
   ],
   "source": [
    "sentiment_pipeline = pipeline(model='Shunian/yelp_review_rating_reberta_base')"
   ]
  },
  {
   "cell_type": "code",
   "execution_count": null,
   "id": "3c03cf14",
   "metadata": {},
   "outputs": [],
   "source": [
    "#sentiment_pipeline = pipeline(model='nlptown/bert-base-multilingual-uncased-sentiment')"
   ]
  },
  {
   "cell_type": "code",
   "execution_count": 61,
   "id": "57390f15",
   "metadata": {},
   "outputs": [],
   "source": [
    "sentiment_output = sentiment_pipeline(filter_reviews['review_short'].tolist())"
   ]
  },
  {
   "cell_type": "code",
   "execution_count": 66,
   "id": "d326d8d7",
   "metadata": {},
   "outputs": [],
   "source": [
    "sent_output_df = pd.DataFrame(sentiment_output)"
   ]
  },
  {
   "cell_type": "code",
   "execution_count": 67,
   "id": "283c8d9a",
   "metadata": {},
   "outputs": [],
   "source": [
    "sent_output_df.to_csv('model_output_2.csv')"
   ]
  },
  {
   "cell_type": "code",
   "execution_count": 69,
   "id": "c0deab54",
   "metadata": {},
   "outputs": [
    {
     "data": {
      "text/plain": [
       "91845"
      ]
     },
     "execution_count": 69,
     "metadata": {},
     "output_type": "execute_result"
    }
   ],
   "source": [
    "len(sent_output_df)"
   ]
  },
  {
   "cell_type": "code",
   "execution_count": 70,
   "id": "6c7c8c1e",
   "metadata": {},
   "outputs": [
    {
     "data": {
      "text/plain": [
       "0.723444256344834"
      ]
     },
     "execution_count": 70,
     "metadata": {},
     "output_type": "execute_result"
    }
   ],
   "source": [
    "sent_output_df['score'].mean()"
   ]
  },
  {
   "cell_type": "code",
   "execution_count": 71,
   "id": "b95b2338",
   "metadata": {},
   "outputs": [],
   "source": [
    "sent_output_df_2 = pd.read_csv('sentiment_test.csv')"
   ]
  },
  {
   "cell_type": "code",
   "execution_count": 73,
   "id": "dac12b46",
   "metadata": {},
   "outputs": [
    {
     "data": {
      "text/plain": [
       "0.7125637526359831"
      ]
     },
     "execution_count": 73,
     "metadata": {},
     "output_type": "execute_result"
    }
   ],
   "source": [
    "sent_output_df_2['score'].mean()"
   ]
  },
  {
   "cell_type": "code",
   "execution_count": 74,
   "id": "659f6f9c",
   "metadata": {},
   "outputs": [
    {
     "data": {
      "text/plain": [
       "LABEL_4    0.622135\n",
       "LABEL_3    0.288617\n",
       "LABEL_2    0.049812\n",
       "LABEL_0    0.025456\n",
       "LABEL_1    0.013980\n",
       "Name: label, dtype: float64"
      ]
     },
     "execution_count": 74,
     "metadata": {},
     "output_type": "execute_result"
    }
   ],
   "source": [
    "sent_output_df['label'].value_counts(normalize = True)"
   ]
  },
  {
   "cell_type": "code",
   "execution_count": 75,
   "id": "188d0a4b",
   "metadata": {},
   "outputs": [
    {
     "data": {
      "text/plain": [
       "5 stars    0.770737\n",
       "4 stars    0.179298\n",
       "3 stars    0.025867\n",
       "2 stars    0.014311\n",
       "1 star     0.009787\n",
       "Name: label, dtype: float64"
      ]
     },
     "execution_count": 75,
     "metadata": {},
     "output_type": "execute_result"
    }
   ],
   "source": [
    "sent_output_df_2['label'].value_counts(normalize = True)"
   ]
  },
  {
   "cell_type": "code",
   "execution_count": 77,
   "id": "6cc99427",
   "metadata": {},
   "outputs": [],
   "source": [
    "filter_reviews['sentiment_score'] = sent_output_df['label'].values"
   ]
  },
  {
   "cell_type": "code",
   "execution_count": 79,
   "id": "e75650b4",
   "metadata": {},
   "outputs": [],
   "source": [
    "filter_reviews['sentiment_score'] = filter_reviews['sentiment_score'].str[6]"
   ]
  },
  {
   "cell_type": "code",
   "execution_count": 83,
   "id": "8400d936",
   "metadata": {},
   "outputs": [],
   "source": [
    "filter_reviews['sentiment_score'] = filter_reviews['sentiment_score'].astype(str).astype(int) + 1"
   ]
  },
  {
   "cell_type": "code",
   "execution_count": 84,
   "id": "77bf435f",
   "metadata": {},
   "outputs": [
    {
     "data": {
      "text/html": [
       "<div>\n",
       "<style scoped>\n",
       "    .dataframe tbody tr th:only-of-type {\n",
       "        vertical-align: middle;\n",
       "    }\n",
       "\n",
       "    .dataframe tbody tr th {\n",
       "        vertical-align: top;\n",
       "    }\n",
       "\n",
       "    .dataframe thead th {\n",
       "        text-align: right;\n",
       "    }\n",
       "</style>\n",
       "<table border=\"1\" class=\"dataframe\">\n",
       "  <thead>\n",
       "    <tr style=\"text-align: right;\">\n",
       "      <th></th>\n",
       "      <th>listing_id</th>\n",
       "      <th>id</th>\n",
       "      <th>date</th>\n",
       "      <th>reviewer_id</th>\n",
       "      <th>reviewer_name</th>\n",
       "      <th>comments</th>\n",
       "      <th>review_short</th>\n",
       "      <th>sentiment_score</th>\n",
       "    </tr>\n",
       "  </thead>\n",
       "  <tbody>\n",
       "    <tr>\n",
       "      <th>58</th>\n",
       "      <td>185536</td>\n",
       "      <td>635562139</td>\n",
       "      <td>2020-07-06</td>\n",
       "      <td>339452635</td>\n",
       "      <td>Arya</td>\n",
       "      <td>Cancelled reservation early because house was ...</td>\n",
       "      <td>Cancelled reservation early because house was ...</td>\n",
       "      <td>3</td>\n",
       "    </tr>\n",
       "    <tr>\n",
       "      <th>59</th>\n",
       "      <td>185536</td>\n",
       "      <td>713495683</td>\n",
       "      <td>2020-12-05</td>\n",
       "      <td>325039109</td>\n",
       "      <td>Daryl</td>\n",
       "      <td>Laura is kind, thoughtful, and hospitable. The...</td>\n",
       "      <td>Laura is kind, thoughtful, and hospitable. The...</td>\n",
       "      <td>4</td>\n",
       "    </tr>\n",
       "    <tr>\n",
       "      <th>60</th>\n",
       "      <td>185536</td>\n",
       "      <td>566003551605243289</td>\n",
       "      <td>2022-02-19</td>\n",
       "      <td>436519389</td>\n",
       "      <td>Renee</td>\n",
       "      <td>Laura is a nice person, I enjoyed staying ther...</td>\n",
       "      <td>Laura is a nice person, I enjoyed staying ther...</td>\n",
       "      <td>3</td>\n",
       "    </tr>\n",
       "    <tr>\n",
       "      <th>97</th>\n",
       "      <td>2708</td>\n",
       "      <td>619302203</td>\n",
       "      <td>2020-03-17</td>\n",
       "      <td>117823684</td>\n",
       "      <td>Nathan</td>\n",
       "      <td>Location is decent (near some great music stor...</td>\n",
       "      <td>Location is decent (near some great music stor...</td>\n",
       "      <td>3</td>\n",
       "    </tr>\n",
       "    <tr>\n",
       "      <th>121</th>\n",
       "      <td>2708</td>\n",
       "      <td>632352136</td>\n",
       "      <td>2020-06-26</td>\n",
       "      <td>275399037</td>\n",
       "      <td>Tom</td>\n",
       "      <td>Charles was not only a gracious and accommodat...</td>\n",
       "      <td>Charles was not only a gracious and accommodat...</td>\n",
       "      <td>5</td>\n",
       "    </tr>\n",
       "    <tr>\n",
       "      <th>...</th>\n",
       "      <td>...</td>\n",
       "      <td>...</td>\n",
       "      <td>...</td>\n",
       "      <td>...</td>\n",
       "      <td>...</td>\n",
       "      <td>...</td>\n",
       "      <td>...</td>\n",
       "      <td>...</td>\n",
       "    </tr>\n",
       "    <tr>\n",
       "      <th>1612394</th>\n",
       "      <td>35885839</td>\n",
       "      <td>529753992226184121</td>\n",
       "      <td>2021-12-31</td>\n",
       "      <td>141430565</td>\n",
       "      <td>Xiaoxiao</td>\n",
       "      <td>The owner is very responsive. Descriptions are...</td>\n",
       "      <td>The owner is very responsive. Descriptions are...</td>\n",
       "      <td>4</td>\n",
       "    </tr>\n",
       "    <tr>\n",
       "      <th>1612395</th>\n",
       "      <td>35885839</td>\n",
       "      <td>559500943179290759</td>\n",
       "      <td>2022-02-10</td>\n",
       "      <td>175841472</td>\n",
       "      <td>Emilie</td>\n",
       "      <td>We enjoyed our stay. The location is perfect n...</td>\n",
       "      <td>We enjoyed our stay. The location is perfect n...</td>\n",
       "      <td>4</td>\n",
       "    </tr>\n",
       "    <tr>\n",
       "      <th>1612396</th>\n",
       "      <td>35885839</td>\n",
       "      <td>676122609519273306</td>\n",
       "      <td>2022-07-21</td>\n",
       "      <td>237938623</td>\n",
       "      <td>Eric</td>\n",
       "      <td>DESPITE NO A/C HAD A GREAT STAY WITH THE FAN O...</td>\n",
       "      <td>DESPITE NO A/C HAD A GREAT STAY WITH THE FAN O...</td>\n",
       "      <td>1</td>\n",
       "    </tr>\n",
       "    <tr>\n",
       "      <th>1612397</th>\n",
       "      <td>35885839</td>\n",
       "      <td>677625291931035513</td>\n",
       "      <td>2022-07-23</td>\n",
       "      <td>410293060</td>\n",
       "      <td>Mike</td>\n",
       "      <td>Great location for walking to the beach and cl...</td>\n",
       "      <td>Great location for walking to the beach and cl...</td>\n",
       "      <td>4</td>\n",
       "    </tr>\n",
       "    <tr>\n",
       "      <th>1612398</th>\n",
       "      <td>35885839</td>\n",
       "      <td>680537167667575925</td>\n",
       "      <td>2022-07-27</td>\n",
       "      <td>15276630</td>\n",
       "      <td>Gene</td>\n",
       "      <td>Met our needs and close to everything. Would r...</td>\n",
       "      <td>Met our needs and close to everything. Would r...</td>\n",
       "      <td>4</td>\n",
       "    </tr>\n",
       "  </tbody>\n",
       "</table>\n",
       "<p>91845 rows × 8 columns</p>\n",
       "</div>"
      ],
      "text/plain": [
       "         listing_id                  id        date  reviewer_id  \\\n",
       "58           185536           635562139  2020-07-06    339452635   \n",
       "59           185536           713495683  2020-12-05    325039109   \n",
       "60           185536  566003551605243289  2022-02-19    436519389   \n",
       "97             2708           619302203  2020-03-17    117823684   \n",
       "121            2708           632352136  2020-06-26    275399037   \n",
       "...             ...                 ...         ...          ...   \n",
       "1612394    35885839  529753992226184121  2021-12-31    141430565   \n",
       "1612395    35885839  559500943179290759  2022-02-10    175841472   \n",
       "1612396    35885839  676122609519273306  2022-07-21    237938623   \n",
       "1612397    35885839  677625291931035513  2022-07-23    410293060   \n",
       "1612398    35885839  680537167667575925  2022-07-27     15276630   \n",
       "\n",
       "        reviewer_name                                           comments  \\\n",
       "58               Arya  Cancelled reservation early because house was ...   \n",
       "59              Daryl  Laura is kind, thoughtful, and hospitable. The...   \n",
       "60              Renee  Laura is a nice person, I enjoyed staying ther...   \n",
       "97             Nathan  Location is decent (near some great music stor...   \n",
       "121               Tom  Charles was not only a gracious and accommodat...   \n",
       "...               ...                                                ...   \n",
       "1612394      Xiaoxiao  The owner is very responsive. Descriptions are...   \n",
       "1612395        Emilie  We enjoyed our stay. The location is perfect n...   \n",
       "1612396          Eric  DESPITE NO A/C HAD A GREAT STAY WITH THE FAN O...   \n",
       "1612397          Mike  Great location for walking to the beach and cl...   \n",
       "1612398          Gene  Met our needs and close to everything. Would r...   \n",
       "\n",
       "                                              review_short  sentiment_score  \n",
       "58       Cancelled reservation early because house was ...                3  \n",
       "59       Laura is kind, thoughtful, and hospitable. The...                4  \n",
       "60       Laura is a nice person, I enjoyed staying ther...                3  \n",
       "97       Location is decent (near some great music stor...                3  \n",
       "121      Charles was not only a gracious and accommodat...                5  \n",
       "...                                                    ...              ...  \n",
       "1612394  The owner is very responsive. Descriptions are...                4  \n",
       "1612395  We enjoyed our stay. The location is perfect n...                4  \n",
       "1612396  DESPITE NO A/C HAD A GREAT STAY WITH THE FAN O...                1  \n",
       "1612397  Great location for walking to the beach and cl...                4  \n",
       "1612398  Met our needs and close to everything. Would r...                4  \n",
       "\n",
       "[91845 rows x 8 columns]"
      ]
     },
     "execution_count": 84,
     "metadata": {},
     "output_type": "execute_result"
    }
   ],
   "source": [
    "filter_reviews"
   ]
  },
  {
   "cell_type": "code",
   "execution_count": 85,
   "id": "9025f782",
   "metadata": {},
   "outputs": [],
   "source": [
    "mean_sentiment = filter_reviews.groupby(['listing_id']).mean()"
   ]
  },
  {
   "cell_type": "code",
   "execution_count": 86,
   "id": "59b328df",
   "metadata": {},
   "outputs": [
    {
     "data": {
      "text/html": [
       "<div>\n",
       "<style scoped>\n",
       "    .dataframe tbody tr th:only-of-type {\n",
       "        vertical-align: middle;\n",
       "    }\n",
       "\n",
       "    .dataframe tbody tr th {\n",
       "        vertical-align: top;\n",
       "    }\n",
       "\n",
       "    .dataframe thead th {\n",
       "        text-align: right;\n",
       "    }\n",
       "</style>\n",
       "<table border=\"1\" class=\"dataframe\">\n",
       "  <thead>\n",
       "    <tr style=\"text-align: right;\">\n",
       "      <th></th>\n",
       "      <th>id</th>\n",
       "      <th>reviewer_id</th>\n",
       "      <th>sentiment_score</th>\n",
       "    </tr>\n",
       "    <tr>\n",
       "      <th>listing_id</th>\n",
       "      <th></th>\n",
       "      <th></th>\n",
       "      <th></th>\n",
       "    </tr>\n",
       "  </thead>\n",
       "  <tbody>\n",
       "    <tr>\n",
       "      <th>2708</th>\n",
       "      <td>2.831920e+17</td>\n",
       "      <td>1.854303e+08</td>\n",
       "      <td>4.500000</td>\n",
       "    </tr>\n",
       "    <tr>\n",
       "      <th>5728</th>\n",
       "      <td>2.984638e+17</td>\n",
       "      <td>1.287915e+08</td>\n",
       "      <td>4.857143</td>\n",
       "    </tr>\n",
       "    <tr>\n",
       "      <th>5729</th>\n",
       "      <td>2.290455e+17</td>\n",
       "      <td>1.445840e+08</td>\n",
       "      <td>4.647059</td>\n",
       "    </tr>\n",
       "    <tr>\n",
       "      <th>5891</th>\n",
       "      <td>5.949722e+17</td>\n",
       "      <td>1.128658e+06</td>\n",
       "      <td>5.000000</td>\n",
       "    </tr>\n",
       "    <tr>\n",
       "      <th>6931</th>\n",
       "      <td>1.753773e+17</td>\n",
       "      <td>1.642781e+08</td>\n",
       "      <td>4.333333</td>\n",
       "    </tr>\n",
       "    <tr>\n",
       "      <th>...</th>\n",
       "      <td>...</td>\n",
       "      <td>...</td>\n",
       "      <td>...</td>\n",
       "    </tr>\n",
       "    <tr>\n",
       "      <th>698476341362314202</th>\n",
       "      <td>7.001122e+17</td>\n",
       "      <td>3.315763e+08</td>\n",
       "      <td>5.000000</td>\n",
       "    </tr>\n",
       "    <tr>\n",
       "      <th>700675214582872697</th>\n",
       "      <td>7.087588e+17</td>\n",
       "      <td>4.073924e+08</td>\n",
       "      <td>5.000000</td>\n",
       "    </tr>\n",
       "    <tr>\n",
       "      <th>700702603482599622</th>\n",
       "      <td>7.066415e+17</td>\n",
       "      <td>1.430641e+07</td>\n",
       "      <td>4.500000</td>\n",
       "    </tr>\n",
       "    <tr>\n",
       "      <th>705222833760774158</th>\n",
       "      <td>7.065525e+17</td>\n",
       "      <td>1.025091e+08</td>\n",
       "      <td>5.000000</td>\n",
       "    </tr>\n",
       "    <tr>\n",
       "      <th>706001187192766322</th>\n",
       "      <td>7.073103e+17</td>\n",
       "      <td>3.940383e+08</td>\n",
       "      <td>5.000000</td>\n",
       "    </tr>\n",
       "  </tbody>\n",
       "</table>\n",
       "<p>8066 rows × 3 columns</p>\n",
       "</div>"
      ],
      "text/plain": [
       "                              id   reviewer_id  sentiment_score\n",
       "listing_id                                                     \n",
       "2708                2.831920e+17  1.854303e+08         4.500000\n",
       "5728                2.984638e+17  1.287915e+08         4.857143\n",
       "5729                2.290455e+17  1.445840e+08         4.647059\n",
       "5891                5.949722e+17  1.128658e+06         5.000000\n",
       "6931                1.753773e+17  1.642781e+08         4.333333\n",
       "...                          ...           ...              ...\n",
       "698476341362314202  7.001122e+17  3.315763e+08         5.000000\n",
       "700675214582872697  7.087588e+17  4.073924e+08         5.000000\n",
       "700702603482599622  7.066415e+17  1.430641e+07         4.500000\n",
       "705222833760774158  7.065525e+17  1.025091e+08         5.000000\n",
       "706001187192766322  7.073103e+17  3.940383e+08         5.000000\n",
       "\n",
       "[8066 rows x 3 columns]"
      ]
     },
     "execution_count": 86,
     "metadata": {},
     "output_type": "execute_result"
    }
   ],
   "source": [
    "mean_sentiment"
   ]
  },
  {
   "cell_type": "code",
   "execution_count": 87,
   "id": "40d27ab2",
   "metadata": {},
   "outputs": [],
   "source": [
    "mean_sentiment.to_csv('avg_sentiment_by_listing.csv')"
   ]
  }
 ],
 "metadata": {
  "kernelspec": {
   "display_name": "Python 3 (ipykernel)",
   "language": "python",
   "name": "python3"
  },
  "language_info": {
   "codemirror_mode": {
    "name": "ipython",
    "version": 3
   },
   "file_extension": ".py",
   "mimetype": "text/x-python",
   "name": "python",
   "nbconvert_exporter": "python",
   "pygments_lexer": "ipython3",
   "version": "3.7.4"
  }
 },
 "nbformat": 4,
 "nbformat_minor": 5
}
